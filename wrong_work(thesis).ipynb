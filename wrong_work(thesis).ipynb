{
  "nbformat": 4,
  "nbformat_minor": 0,
  "metadata": {
    "colab": {
      "name": "wrong work(thesis).ipynb",
      "provenance": [],
      "collapsed_sections": [],
      "authorship_tag": "ABX9TyO6i6ZjdTqSaaODs7IRVITz",
      "include_colab_link": true
    },
    "kernelspec": {
      "name": "python3",
      "display_name": "Python 3"
    }
  },
  "cells": [
    {
      "cell_type": "markdown",
      "metadata": {
        "id": "view-in-github",
        "colab_type": "text"
      },
      "source": [
        "<a href=\"https://colab.research.google.com/github/hsargoli/Mythesis-detect-type-of-DullDrillingBit/blob/master/wrong_work(thesis).ipynb\" target=\"_parent\"><img src=\"https://colab.research.google.com/assets/colab-badge.svg\" alt=\"Open In Colab\"/></a>"
      ]
    },
    {
      "cell_type": "code",
      "metadata": {
        "id": "QOb473MhKUAm",
        "colab": {
          "base_uri": "https://localhost:8080/",
          "height": 32
        },
        "outputId": "90671ac7-c2fe-4710-984d-740618a2ff2e"
      },
      "source": [
        "from google.colab import drive\n",
        "drive.mount('/content/drive')"
      ],
      "execution_count": null,
      "outputs": [
        {
          "output_type": "stream",
          "text": [
            "Mounted at /content/drive\n"
          ],
          "name": "stdout"
        }
      ]
    },
    {
      "cell_type": "code",
      "metadata": {
        "id": "rDqrtjrL1erw",
        "colab": {
          "base_uri": "https://localhost:8080/",
          "height": 35
        },
        "outputId": "b2984a29-003a-42fc-8b8e-c28e09571511"
      },
      "source": [
        "%pwd"
      ],
      "execution_count": null,
      "outputs": [
        {
          "output_type": "execute_result",
          "data": {
            "application/vnd.google.colaboratory.intrinsic+json": {
              "type": "string"
            },
            "text/plain": [
              "'/content/drive/My Drive/path/Z/dataset'"
            ]
          },
          "metadata": {
            "tags": []
          },
          "execution_count": 11
        }
      ]
    },
    {
      "cell_type": "code",
      "metadata": {
        "id": "uMqfgZCrMX1h",
        "colab": {
          "base_uri": "https://localhost:8080/",
          "height": 1000
        },
        "outputId": "e2b7d0ea-b3cd-495b-a05f-c5352c9371d5"
      },
      "source": [
        "#!pip install mrcnn==0.1\n",
        "!pip install mrcnn\n",
        "!pip install tensorflow==1.4.1\n",
        "#!pip install tensorflow==1.3\n",
        "#!pip install keras==2.0.8\n",
        "#!pip install keras==2.1.3\n",
        "!pip install keras==2.1.5"
      ],
      "execution_count": null,
      "outputs": [
        {
          "output_type": "stream",
          "text": [
            "Collecting mrcnn\n",
            "\u001b[?25l  Downloading https://files.pythonhosted.org/packages/80/3d/56e05c297a1f464a042b2c47bcd9e5f2d452ce0e5eca3894f7cbdcaee758/mrcnn-0.2.tar.gz (51kB)\n",
            "\r\u001b[K     |██████▍                         | 10kB 15.8MB/s eta 0:00:01\r\u001b[K     |████████████▊                   | 20kB 1.5MB/s eta 0:00:01\r\u001b[K     |███████████████████             | 30kB 1.8MB/s eta 0:00:01\r\u001b[K     |█████████████████████████▌      | 40kB 2.1MB/s eta 0:00:01\r\u001b[K     |███████████████████████████████▉| 51kB 1.9MB/s eta 0:00:01\r\u001b[K     |████████████████████████████████| 61kB 1.8MB/s \n",
            "\u001b[?25hBuilding wheels for collected packages: mrcnn\n",
            "  Building wheel for mrcnn (setup.py) ... \u001b[?25l\u001b[?25hdone\n",
            "  Created wheel for mrcnn: filename=mrcnn-0.2-cp36-none-any.whl size=54932 sha256=b984a4295950b3b3c227c4f0958cff49192dd3f86a99e92687c4239f919dcd56\n",
            "  Stored in directory: /root/.cache/pip/wheels/11/ed/28/e550ddc897c04c336b923eae4eb35c9aae993d20ce39d9cc40\n",
            "Successfully built mrcnn\n",
            "Installing collected packages: mrcnn\n",
            "Successfully installed mrcnn-0.2\n",
            "Collecting tensorflow==1.4.1\n",
            "\u001b[?25l  Downloading https://files.pythonhosted.org/packages/8c/b3/dba1a3e681a56d5ad63d3a1aa02b52294bdb3c6373245a67c1492a90cb62/tensorflow-1.4.1-cp36-cp36m-manylinux1_x86_64.whl (41.2MB)\n",
            "\u001b[K     |████████████████████████████████| 41.2MB 102kB/s \n",
            "\u001b[?25hRequirement already satisfied: protobuf>=3.3.0 in /usr/local/lib/python3.6/dist-packages (from tensorflow==1.4.1) (3.12.4)\n",
            "Requirement already satisfied: numpy>=1.12.1 in /usr/local/lib/python3.6/dist-packages (from tensorflow==1.4.1) (1.18.5)\n",
            "Collecting tensorflow-tensorboard<0.5.0,>=0.4.0rc1\n",
            "\u001b[?25l  Downloading https://files.pythonhosted.org/packages/e9/9f/5845c18f9df5e7ea638ecf3a272238f0e7671e454faa396b5188c6e6fc0a/tensorflow_tensorboard-0.4.0-py3-none-any.whl (1.7MB)\n",
            "\u001b[K     |████████████████████████████████| 1.7MB 43.6MB/s \n",
            "\u001b[?25hRequirement already satisfied: wheel>=0.26 in /usr/local/lib/python3.6/dist-packages (from tensorflow==1.4.1) (0.35.1)\n",
            "Collecting enum34>=1.1.6\n",
            "  Downloading https://files.pythonhosted.org/packages/63/f6/ccb1c83687756aeabbf3ca0f213508fcfb03883ff200d201b3a4c60cedcc/enum34-1.1.10-py3-none-any.whl\n",
            "Requirement already satisfied: six>=1.10.0 in /usr/local/lib/python3.6/dist-packages (from tensorflow==1.4.1) (1.15.0)\n",
            "Requirement already satisfied: setuptools in /usr/local/lib/python3.6/dist-packages (from protobuf>=3.3.0->tensorflow==1.4.1) (50.3.0)\n",
            "Requirement already satisfied: markdown>=2.6.8 in /usr/local/lib/python3.6/dist-packages (from tensorflow-tensorboard<0.5.0,>=0.4.0rc1->tensorflow==1.4.1) (3.2.2)\n",
            "Collecting html5lib==0.9999999\n",
            "\u001b[?25l  Downloading https://files.pythonhosted.org/packages/ae/ae/bcb60402c60932b32dfaf19bb53870b29eda2cd17551ba5639219fb5ebf9/html5lib-0.9999999.tar.gz (889kB)\n",
            "\u001b[K     |████████████████████████████████| 890kB 44.5MB/s \n",
            "\u001b[?25hCollecting bleach==1.5.0\n",
            "  Downloading https://files.pythonhosted.org/packages/33/70/86c5fec937ea4964184d4d6c4f0b9551564f821e1c3575907639036d9b90/bleach-1.5.0-py2.py3-none-any.whl\n",
            "Requirement already satisfied: werkzeug>=0.11.10 in /usr/local/lib/python3.6/dist-packages (from tensorflow-tensorboard<0.5.0,>=0.4.0rc1->tensorflow==1.4.1) (1.0.1)\n",
            "Requirement already satisfied: importlib-metadata; python_version < \"3.8\" in /usr/local/lib/python3.6/dist-packages (from markdown>=2.6.8->tensorflow-tensorboard<0.5.0,>=0.4.0rc1->tensorflow==1.4.1) (1.7.0)\n",
            "Requirement already satisfied: zipp>=0.5 in /usr/local/lib/python3.6/dist-packages (from importlib-metadata; python_version < \"3.8\"->markdown>=2.6.8->tensorflow-tensorboard<0.5.0,>=0.4.0rc1->tensorflow==1.4.1) (3.1.0)\n",
            "Building wheels for collected packages: html5lib\n",
            "  Building wheel for html5lib (setup.py) ... \u001b[?25l\u001b[?25hdone\n",
            "  Created wheel for html5lib: filename=html5lib-0.9999999-cp36-none-any.whl size=107220 sha256=45e1f8159ba89d15a9dd97546e74c0f5e29732f8c1727747c95435a4dfc1d79d\n",
            "  Stored in directory: /root/.cache/pip/wheels/50/ae/f9/d2b189788efcf61d1ee0e36045476735c838898eef1cad6e29\n",
            "Successfully built html5lib\n",
            "Installing collected packages: html5lib, bleach, tensorflow-tensorboard, enum34, tensorflow\n",
            "  Found existing installation: html5lib 1.0.1\n",
            "    Uninstalling html5lib-1.0.1:\n",
            "      Successfully uninstalled html5lib-1.0.1\n",
            "  Found existing installation: bleach 3.1.5\n",
            "    Uninstalling bleach-3.1.5:\n",
            "      Successfully uninstalled bleach-3.1.5\n",
            "  Found existing installation: tensorflow 2.3.0\n",
            "    Uninstalling tensorflow-2.3.0:\n",
            "      Successfully uninstalled tensorflow-2.3.0\n",
            "Successfully installed bleach-1.5.0 enum34-1.1.10 html5lib-0.9999999 tensorflow-1.4.1 tensorflow-tensorboard-0.4.0\n"
          ],
          "name": "stdout"
        },
        {
          "output_type": "display_data",
          "data": {
            "application/vnd.colab-display-data+json": {
              "pip_warning": {
                "packages": [
                  "enum"
                ]
              }
            }
          },
          "metadata": {
            "tags": []
          }
        },
        {
          "output_type": "stream",
          "text": [
            "Collecting keras==2.1.5\n",
            "\u001b[?25l  Downloading https://files.pythonhosted.org/packages/ba/65/e4aff762b8696ec0626a6654b1e73b396fcc8b7cc6b98d78a1bc53b85b48/Keras-2.1.5-py2.py3-none-any.whl (334kB)\n",
            "\r\u001b[K     |█                               | 10kB 17.4MB/s eta 0:00:01\r\u001b[K     |██                              | 20kB 1.6MB/s eta 0:00:01\r\u001b[K     |███                             | 30kB 2.1MB/s eta 0:00:01\r\u001b[K     |████                            | 40kB 2.4MB/s eta 0:00:01\r\u001b[K     |█████                           | 51kB 1.9MB/s eta 0:00:01\r\u001b[K     |█████▉                          | 61kB 2.1MB/s eta 0:00:01\r\u001b[K     |██████▉                         | 71kB 2.3MB/s eta 0:00:01\r\u001b[K     |███████▉                        | 81kB 2.5MB/s eta 0:00:01\r\u001b[K     |████████▉                       | 92kB 2.7MB/s eta 0:00:01\r\u001b[K     |█████████▉                      | 102kB 2.6MB/s eta 0:00:01\r\u001b[K     |██████████▊                     | 112kB 2.6MB/s eta 0:00:01\r\u001b[K     |███████████▊                    | 122kB 2.6MB/s eta 0:00:01\r\u001b[K     |████████████▊                   | 133kB 2.6MB/s eta 0:00:01\r\u001b[K     |█████████████▊                  | 143kB 2.6MB/s eta 0:00:01\r\u001b[K     |██████████████▊                 | 153kB 2.6MB/s eta 0:00:01\r\u001b[K     |███████████████▋                | 163kB 2.6MB/s eta 0:00:01\r\u001b[K     |████████████████▋               | 174kB 2.6MB/s eta 0:00:01\r\u001b[K     |█████████████████▋              | 184kB 2.6MB/s eta 0:00:01\r\u001b[K     |██████████████████▋             | 194kB 2.6MB/s eta 0:00:01\r\u001b[K     |███████████████████▋            | 204kB 2.6MB/s eta 0:00:01\r\u001b[K     |████████████████████▌           | 215kB 2.6MB/s eta 0:00:01\r\u001b[K     |█████████████████████▌          | 225kB 2.6MB/s eta 0:00:01\r\u001b[K     |██████████████████████▌         | 235kB 2.6MB/s eta 0:00:01\r\u001b[K     |███████████████████████▌        | 245kB 2.6MB/s eta 0:00:01\r\u001b[K     |████████████████████████▌       | 256kB 2.6MB/s eta 0:00:01\r\u001b[K     |█████████████████████████▍      | 266kB 2.6MB/s eta 0:00:01\r\u001b[K     |██████████████████████████▍     | 276kB 2.6MB/s eta 0:00:01\r\u001b[K     |███████████████████████████▍    | 286kB 2.6MB/s eta 0:00:01\r\u001b[K     |████████████████████████████▍   | 296kB 2.6MB/s eta 0:00:01\r\u001b[K     |█████████████████████████████▍  | 307kB 2.6MB/s eta 0:00:01\r\u001b[K     |██████████████████████████████▎ | 317kB 2.6MB/s eta 0:00:01\r\u001b[K     |███████████████████████████████▎| 327kB 2.6MB/s eta 0:00:01\r\u001b[K     |████████████████████████████████| 337kB 2.6MB/s \n",
            "\u001b[?25hRequirement already satisfied: six>=1.9.0 in /usr/local/lib/python3.6/dist-packages (from keras==2.1.5) (1.15.0)\n",
            "Requirement already satisfied: pyyaml in /usr/local/lib/python3.6/dist-packages (from keras==2.1.5) (3.13)\n",
            "Requirement already satisfied: numpy>=1.9.1 in /usr/local/lib/python3.6/dist-packages (from keras==2.1.5) (1.18.5)\n",
            "Requirement already satisfied: scipy>=0.14 in /usr/local/lib/python3.6/dist-packages (from keras==2.1.5) (1.4.1)\n",
            "Installing collected packages: keras\n",
            "  Found existing installation: Keras 2.4.3\n",
            "    Uninstalling Keras-2.4.3:\n",
            "      Successfully uninstalled Keras-2.4.3\n",
            "Successfully installed keras-2.1.5\n"
          ],
          "name": "stdout"
        }
      ]
    },
    {
      "cell_type": "code",
      "metadata": {
        "id": "wCnObJ4s_jaT"
      },
      "source": [
        "!rm /usr/local/lib/python3.6/dist-packages/mrcnn/model.py"
      ],
      "execution_count": null,
      "outputs": []
    },
    {
      "cell_type": "markdown",
      "metadata": {
        "id": "FuA5gmeBZBxo"
      },
      "source": [
        "# `mask rcnn`"
      ]
    },
    {
      "cell_type": "code",
      "metadata": {
        "id": "Zm1OJ7JEL7Hl",
        "colab": {
          "base_uri": "https://localhost:8080/",
          "height": 563
        },
        "outputId": "4e190a48-31e4-4fb4-9e88-99af61961f92"
      },
      "source": [
        "from mrcnn.config import Config\n",
        "import keras\n",
        "import tensorflow as tf\n",
        "print('keras version',keras.__version__)\n",
        "print('tf version ',tf.__version__)\n",
        "from mrcnn import model as modellib\n",
        "from mrcnn import visualize\n",
        "import mrcnn\n",
        "from mrcnn.utils import Dataset\n",
        "from mrcnn.model import MaskRCNN\n",
        "import numpy as np\n",
        "from numpy import zeros\n",
        "from numpy import asarray\n",
        "import colorsys\n",
        "import argparse\n",
        "import imutils\n",
        "import random\n",
        "import cv2\n",
        "import os\n",
        "import time\n",
        "from matplotlib import pyplot\n",
        "from matplotlib.patches import Rectangle\n",
        "from keras.models import load_model\n",
        "%matplotlib inline\n",
        "from os import listdir\n",
        "from xml.etree import ElementTree\n",
        "\n",
        "\n",
        "import matplotlib.pyplot as plt\n",
        "import glob\n",
        "import cv2\n",
        "import pandas as pd\n",
        "import seaborn as sns\n",
        "import keras.layers as layers\n",
        "import keras.models as models\n",
        "from keras.optimizers import SGD\n",
        "from sklearn.model_selection import train_test_split\n",
        "from sklearn.metrics import confusion_matrix\n",
        "from keras.utils import np_utils\n",
        "import matplotlib.image as mplib\n",
        "import datetime\n",
        "import os \n",
        "sh=plt.imshow\n",
        "import keras\n",
        "os.chdir('/content/drive/My Drive/')\n",
        "from pathlib import Path\n",
        "import keras\n",
        "from keras.utils import plot_model\n",
        "\n",
        "def selection_sort(x):\n",
        "    for i in range(len(x)):\n",
        "        swap = i + np.argmin(x[i:])\n",
        "        (x[i], x[swap]) = (x[swap], x[i])\n",
        "    return x\n",
        "\n",
        "# =========================================================\n",
        "#  READ DATA \n",
        "# =========================================================\n",
        "#set path\n",
        "path=glob.glob('path/Z/dataset/images/*.jpg')\n",
        "pathh=[]\n",
        "for i in path:\n",
        "  pathh.append(i)\n",
        "pathh.sort()\n",
        "pathh=selection_sort(pathh)\n",
        "#imread\n",
        "img_list=[]\n",
        "for i in pathh:  \n",
        "    a=cv2.imread(i)\n",
        "    #a=np.sort(a)\n",
        "    img_list.append(a)\n",
        "#make datas\n",
        "img_list2=img_list.copy()\n",
        "img_nd=np.array(img_list)\n",
        "img_nd2=np.array(img_list2)\n",
        "img_gray=img_nd[:,:,:,1]\n",
        "# =========================================================\n",
        "#  READ coordinate of objects\n",
        "# =========================================================\n",
        "file=np.loadtxt('path/x.txt')\n",
        "target=[]\n",
        "for i in file:\n",
        "    target.append(i[1:5])\n",
        "start=np.array(target)\n",
        "\n",
        "start=start[...,:2]\n",
        "#end=start+100\n",
        "#center=start+50\n",
        "#SE=np.concatenate((start,end),axis=1)\n",
        "#center=center.astype('int32')\n",
        "\n",
        "start256=start * 0.853\n",
        "end256=85+start256\n",
        "center256=start256+42\n",
        "SE256=np.concatenate((start256,end256),axis=1)\n",
        "center256=center256.astype('int32')\n",
        "\n",
        "# =========================================================\n",
        "#  draw circle around targets\n",
        "# =========================================================\n",
        "#circle=[]\n",
        "#x=cv2.circle(img_nd[1],(center[1,0],center[1,1]),radius=50,color=(100,0,0))\n",
        "#for i in np.arange(0,len(center)):\n",
        "#    a=cv2.circle(img_nd2[i],(center[i,0],center[i,1]),radius=50,color=(255,50,200),thickness=2)\n",
        "#    circle.append(a)\n",
        "#circle=np.array(circle)\n",
        "#---------\n",
        "circle256=[]\n",
        "x=cv2.circle(img_nd[1],(center256[1,0],center256[1,1]),radius=50,color=(100,0,0))\n",
        "for i in np.arange(0,len(center256)):\n",
        "    a=cv2.circle(img_nd2[i],(center256[i,0],center256[i,1]),radius=42,color=(255,50,0),thickness=2)\n",
        "    circle256.append(a)\n",
        "circle256=np.array(circle256)\n",
        "print('gray shape:',img_gray.shape,\n",
        "     '\\ncircle.shape',circle256.shape)\n",
        "masks=np.zeros([67,256,256,3],dtype='int8')\n",
        "len(masks)\n",
        "img_mask=img_nd.copy()\n",
        "img_box=np.array(img_list)\n",
        "border_box=[]\n",
        "for i in np.arange(0,len(center256)):\n",
        "  xmin=int(SE256[i,0])\n",
        "  ymin=int(SE256[i,1])\n",
        "  xmax=int(SE256[i,2])\n",
        "  ymax=int(SE256[i,3])\n",
        "  a=cv2.rectangle(img_box[i],(xmin,ymin),(xmax,ymax),color=(255,0,0),thickness=2)\n",
        "  border_box.append(a)\n",
        "\n",
        "# =========================================================\n",
        "#  make masks\n",
        "# =========================================================\n",
        "mask_target=[]\n",
        "for i in np.arange(0,len(masks)):\n",
        "    a=img_nd[i][int(SE256[i,1]):int(SE256[i,3]),int(SE256[i,0]):int(SE256[i,2])]\n",
        "    mask_target.append(a)\n",
        "mask_target=np.array(mask_target)\n",
        "# =========================================================\n",
        "#  make target layers      ||  wrong work ||\n",
        "# =========================================================\n",
        "imm=img_list.copy()\n",
        "imm=np.array(imm)\n",
        "imm=imm[:,:,:,0:2]    \n",
        "ime=[]\n",
        "for i in np.arange(0,len(imm)):\n",
        "    a=cv2.resize(imm[i],(80,80))\n",
        "    ime.append(a)\n",
        "ime=np.array(ime)\n",
        "print('target.shape',ime.shape)\n",
        "doo=ime.copy()\n",
        "SE80=SE256*.26666666\n",
        "py1=[]\n",
        "py2=[]\n",
        "px1=[]\n",
        "px2=[]\n",
        "for i in np.arange(0,len(SE80)):\n",
        "    y1=SE80[i,1]\n",
        "    y2=SE80[i,3]\n",
        "    x1=SE80[i,0]\n",
        "    x2=SE80[i,2]\n",
        "    py1.append(y1)\n",
        "    py2.append(y2)\n",
        "    px1.append(x1)\n",
        "    px2.append(x2)\n",
        "for i in np.arange(0,len(doo)):\n",
        "    doo[i][int(py1[i]):int(py2[i]),int(px1[i]):int(px2[i]),0]=0\n",
        "dood=doo.copy()\n",
        "for i in np.arange(0,len(doo)):\n",
        "    dood[i][:,0:int(px1[i]),1]=0\n",
        "    dood[i][:,int(px2[i]):80,1]=0\n",
        "    dood[i][0:int(py1[i]),:,1]=0\n",
        "    dood[i][int(py2[i]):80,:,1]=0\n",
        "\n",
        "# =========================================================\n",
        "#  split data\n",
        "# =========================================================    \n",
        "x_train,x_test,y_train,y_test=train_test_split(img_nd2,\n",
        "                                               SE256,\n",
        "                                               test_size=.3,\n",
        "                                               random_state=25)\n",
        "\n",
        "# =========================================================\n",
        "#  plot  1-image  2-image with boundig target  3- mask of the image\n",
        "# =========================================================\n",
        "idx=65\n",
        "figsizee=10\n",
        "plt.figure(figsize=(figsizee,figsizee)),plt.subplot(1,4,1),plt.imshow(img_nd[idx])\n",
        "plt.subplot(1,4,2),plt.imshow(circle256[idx])\n",
        "masks[idx][int(SE256[idx,1]):int(SE256[idx,3]),int(SE256[idx,0]):int(SE256[idx,2])]=100\n",
        "plt.subplot(1,4,3),plt.imshow(img_box[idx])\n",
        "plt.subplot(1,4,4),plt.imshow(masks[idx])\n",
        "\n",
        "plt.show()\n",
        "print('x min |, y min |, x max |, y max ||, and center')\n",
        "print(':',SE256[idx],'||   center :',center256[idx])\n"
      ],
      "execution_count": null,
      "outputs": [
        {
          "output_type": "stream",
          "text": [
            "Using TensorFlow backend.\n",
            "/usr/local/lib/python3.6/dist-packages/tensorflow/python/framework/dtypes.py:469: FutureWarning: Passing (type, 1) or '1type' as a synonym of type is deprecated; in a future version of numpy, it will be understood as (type, (1,)) / '(1,)type'.\n",
            "  _np_qint8 = np.dtype([(\"qint8\", np.int8, 1)])\n",
            "/usr/local/lib/python3.6/dist-packages/tensorflow/python/framework/dtypes.py:470: FutureWarning: Passing (type, 1) or '1type' as a synonym of type is deprecated; in a future version of numpy, it will be understood as (type, (1,)) / '(1,)type'.\n",
            "  _np_quint8 = np.dtype([(\"quint8\", np.uint8, 1)])\n",
            "/usr/local/lib/python3.6/dist-packages/tensorflow/python/framework/dtypes.py:471: FutureWarning: Passing (type, 1) or '1type' as a synonym of type is deprecated; in a future version of numpy, it will be understood as (type, (1,)) / '(1,)type'.\n",
            "  _np_qint16 = np.dtype([(\"qint16\", np.int16, 1)])\n",
            "/usr/local/lib/python3.6/dist-packages/tensorflow/python/framework/dtypes.py:472: FutureWarning: Passing (type, 1) or '1type' as a synonym of type is deprecated; in a future version of numpy, it will be understood as (type, (1,)) / '(1,)type'.\n",
            "  _np_quint16 = np.dtype([(\"quint16\", np.uint16, 1)])\n",
            "/usr/local/lib/python3.6/dist-packages/tensorflow/python/framework/dtypes.py:473: FutureWarning: Passing (type, 1) or '1type' as a synonym of type is deprecated; in a future version of numpy, it will be understood as (type, (1,)) / '(1,)type'.\n",
            "  _np_qint32 = np.dtype([(\"qint32\", np.int32, 1)])\n",
            "/usr/local/lib/python3.6/dist-packages/tensorflow/python/framework/dtypes.py:476: FutureWarning: Passing (type, 1) or '1type' as a synonym of type is deprecated; in a future version of numpy, it will be understood as (type, (1,)) / '(1,)type'.\n",
            "  np_resource = np.dtype([(\"resource\", np.ubyte, 1)])\n",
            "/usr/lib/python3.6/importlib/_bootstrap.py:219: RuntimeWarning: compiletime version 3.5 of module 'tensorflow.python.framework.fast_tensor_util' does not match runtime version 3.6\n",
            "  return f(*args, **kwds)\n"
          ],
          "name": "stderr"
        },
        {
          "output_type": "stream",
          "text": [
            "keras version 2.1.5\n",
            "tf version  1.4.1\n"
          ],
          "name": "stdout"
        },
        {
          "output_type": "stream",
          "text": [
            "/usr/local/lib/python3.6/dist-packages/statsmodels/tools/_testing.py:19: FutureWarning: pandas.util.testing is deprecated. Use the functions in the public API at pandas.testing instead.\n",
            "  import pandas.util.testing as tm\n"
          ],
          "name": "stderr"
        },
        {
          "output_type": "stream",
          "text": [
            "gray shape: (67, 256, 256) \n",
            "circle.shape (67, 256, 256, 3)\n",
            "target.shape (67, 80, 80, 2)\n"
          ],
          "name": "stdout"
        },
        {
          "output_type": "display_data",
          "data": {
            "image/png": "[encoded data removed]",
            "text/plain": [
              "<Figure size 720x720 with 4 Axes>"
            ]
          },
          "metadata": {
            "tags": [],
            "needs_background": "light"
          }
        },
        {
          "output_type": "stream",
          "text": [
            "x min |, y min |, x max |, y max ||, and center\n",
            ": [ 66.534  10.236 151.534  95.236] ||   center : [108  52]\n"
          ],
          "name": "stdout"
        }
      ]
    },
    {
      "cell_type": "code",
      "metadata": {
        "id": "xjXpEGPDBCxD",
        "colab": {
          "base_uri": "https://localhost:8080/",
          "height": 32
        },
        "outputId": "1d0e1f27-48d0-44bb-8189-dc92a8bede5d"
      },
      "source": [
        "# =========================================================\n",
        "#  config \n",
        "# =========================================================\n",
        "os.chdir('/content/drive/My Drive/path/Z/dataset/')\n",
        "class myConfig(Config):\n",
        "  NAME = 'worn'  # Override in sub-classes\n",
        "  STEP_PER_EPOCH=131\n",
        "    # NUMBER OF GPUs to use. When using only a CPU, this needs to be set to 1.\n",
        "  GPU_COUNT = 1\n",
        "    # Number of images to train with on each GPU. A 12GB GPU can typically\n",
        "    # handle 2 images of 1024x1024px.\n",
        "    # Adjust based on your GPU memory and image sizes. Use the highest\n",
        "    # number that your GPU can handle for best performance.\n",
        "  IMAGES_PER_GPU = 1\n",
        "    # Number of training steps per epoch    # This doesn't need to match the size of the training set. Tensorboard\n",
        "    # updates are saved at the end of each epoch, so setting this to a   # smaller number means getting more frequent TensorBoard updates.\n",
        "    # Validation stats are also calculated at each epoch end and they   # might take a while, so don't set this too small to avoid spending\n",
        "    # a lot of time on validation stats.\n",
        "  STEPS_PER_EPOCH = 100\n",
        "    # Number of validation steps to run at the end of every training epoch.\n",
        "    # A bigger number improves accuracy of validation stats, but slows\n",
        "    # down the training.\n",
        "  VALIDATION_STEPS = 50\n",
        "    # Backbone network architecture   # Supported values are: resnet50, resnet101.    # You can also provide a callable that should have the signature\n",
        "    # of model.resnet_graph. If you do so, you need to supply a callable    # to COMPUTE_BACKBONE_SHAPE as well\n",
        "  BACKBONE = \"resnet101\"\n",
        "    # Only useful if you supply a callable to BACKBONE. Should compute   # the shape of each layer of the FPN Pyramid.   # See model.compute_backbone_shapes\n",
        "  COMPUTE_BACKBONE_SHAPE = None\n",
        "    # The strides of each layer of the FPN Pyramid. These values\n",
        "    # are based on a Resnet101 backbone.\n",
        "  BACKBONE_STRIDES = [ 16, 32, 64, 128,256]\n",
        "\n",
        "    # Size of the fully-connected layers in the classification graph\n",
        "  FPN_CLASSIF_FC_LAYERS_SIZE = 256\n",
        "\n",
        "    # Size of the top-down layers used to build the feature pyramid\n",
        "  TOP_DOWN_PYRAMID_SIZE = 128\n",
        "\n",
        "    # Number of classification classes (including background)\n",
        "  NUM_CLASSES = 1+1  # Override in sub-classes\n",
        "\n",
        "    # Length of square anchor side in pixels\n",
        "  RPN_ANCHOR_SCALES = ( 16, 32, 64, 128,256)\n",
        "\n",
        "    # Ratios of anchors at each cell (width/height)\n",
        "    # A value of 1 represents a square anchor, and 0.5 is a wide anchor\n",
        "  RPN_ANCHOR_RATIOS = [0.5, 1, 2]\n",
        "\n",
        "    # Anchor stride\n",
        "    # If 1 then anchors are created for each cell in the backbone feature map.\n",
        "    # If 2, then anchors are created for every other cell, and so on.\n",
        "  RPN_ANCHOR_STRIDE = 1\n",
        "\n",
        "    # Non-max suppression threshold to filter RPN proposals.\n",
        "    # You can increase this during training to generate more propsals.\n",
        "  RPN_NMS_THRESHOLD = 0.7\n",
        "\n",
        "    # How many anchors per image to use for RPN training\n",
        "  RPN_TRAIN_ANCHORS_PER_IMAGE = 128\n",
        "    \n",
        "    # ROIs kept after tf.nn.top_k and before non-maximum suppression\n",
        "  PRE_NMS_LIMIT = 6000\n",
        "\n",
        "    # ROIs kept after non-maximum suppression (training and inference)\n",
        "  POST_NMS_ROIS_TRAINING = 2000\n",
        "  POST_NMS_ROIS_INFERENCE = 1000\n",
        "\n",
        "    # If enabled, resizes instance masks to a smaller size to reduce\n",
        "    # memory load. Recommended when using high-resolution images.\n",
        "  USE_MINI_MASK = False\n",
        "  MINI_MASK_SHAPE = (32, 32)  # (height, width) of the mini-mask\n",
        "    # Input image resizing\n",
        "    # Generally, use the \"square\" resizing mode for training and predicting\n",
        "    # and it should work well in most cases. In this mode, images are scaled\n",
        "    # up such that the small side is = IMAGE_MIN_DIM, but ensuring that the\n",
        "    # scaling doesn't make the long side > IMAGE_MAX_DIM. Then the image is\n",
        "    # padded with zeros to make it a square so multiple images can be put\n",
        "    # in one batch.\n",
        "    # Available resizing modes:\n",
        "    # none:   No resizing or padding. Return the image unchanged.\n",
        "    # square: Resize and pad with zeros to get a square image\n",
        "    #         of size [max_dim, max_dim].\n",
        "    # pad64:  Pads width and height with zeros to make them multiples of 64.\n",
        "    #         If IMAGE_MIN_DIM or IMAGE_MIN_SCALE are not None, then it scales\n",
        "    #         up before padding. IMAGE_MAX_DIM is ignored in this mode.\n",
        "    #         The multiple of 64 is needed to ensure smooth scaling of feature\n",
        "    #         maps up and down the 6 levels of the FPN pyramid (2**6=64).\n",
        "    # crop:   Picks random crops from the image. First, scales the image based\n",
        "    #         on IMAGE_MIN_DIM and IMAGE_MIN_SCALE, then picks a random crop of\n",
        "    #         size IMAGE_MIN_DIM x IMAGE_MIN_DIM. Can be used in training only.\n",
        "    #         IMAGE_MAX_DIM is not used in this mode.\n",
        "  IMAGE_RESIZE_MODE = \"square\"#'crop' \n",
        "  IMAGE_MIN_DIM = 64\n",
        "  IMAGE_MAX_DIM = 512\n",
        "    # Minimum scaling ratio. Checked after MIN_IMAGE_DIM and can force further\n",
        "    # up scaling. For example, if set to 2 then images are scaled up to double\n",
        "    # the width and height, or more, even if MIN_IMAGE_DIM doesn't require it.\n",
        "    # However, in 'square' mode, it can be overruled by IMAGE_MAX_DIM.\n",
        "  IMAGE_MIN_SCALE = 0\n",
        "    # Number of color channels per image. RGB = 3, grayscale = 1, RGB-D = 4\n",
        "    # Changing this requires other changes in the code. See the WIKI for more\n",
        "    # details: https://github.com/matterport/Mask_RCNN/wiki\n",
        "  IMAGE_CHANNEL_COUNT = 3\n",
        "    # Image mean (RGB)\n",
        "  MEAN_PIXEL = np.array([123.7, 116.8, 103.9])\n",
        "    # Number of ROIs per image to feed to classifier/mask heads\n",
        "    # The Mask RCNN paper uses 512 but often the RPN doesn't generate\n",
        "    # enough positive proposals to fill this and keep a positive:negative\n",
        "    # ratio of 1:3. You can increase the number of proposals by adjusting\n",
        "    # the RPN NMS threshold.\n",
        "  TRAIN_ROIS_PER_IMAGE = 50\n",
        "    # Percent of positive ROIs used to train classifier/mask heads\n",
        "  ROI_POSITIVE_RATIO = 0.33\n",
        "    # Pooled ROIs\n",
        "  POOL_SIZE = 7\n",
        "  MASK_POOL_SIZE = 4\n",
        "    # Shape of output mask # To change this you also need to change the neural network mask branch\n",
        "  MASK_SHAPE = [28, 28]\n",
        "    # Maximum number of ground truth instances to use in one image\n",
        "  MAX_GT_INSTANCES = 4\n",
        "    # Bounding box refinement standard deviation for RPN and final detections.\n",
        "  RPN_BBOX_STD_DEV = np.array([0.1, 0.1, 0.2, 0.2])\n",
        "  BBOX_STD_DEV = np.array([0.1, 0.1, 0.2, 0.2])\n",
        "    # Max number of final detections\n",
        "  DETECTION_MAX_INSTANCES = 20\n",
        "    # Minimum probability value to accept a detected instance\n",
        "    # ROIs below this threshold are skipped\n",
        "  DETECTION_MIN_CONFIDENCE = 0.7\n",
        "    # Non-maximum suppression threshold for detection\n",
        "  DETECTION_NMS_THRESHOLD = 0.3\n",
        "    # Learning rate and momentum\n",
        "    # The Mask RCNN paper uses lr=0.02, but on TensorFlow it causes\n",
        "    # weights to explode. Likely due to differences in optimizer\n",
        "    # implementation.\n",
        "  LEARNING_RATE = 0.0016\n",
        "  LEARNING_MOMENTUM = 0.9\n",
        "    # Weight decay regularization\n",
        "  WEIGHT_DECAY = 0.0001\n",
        "    # Loss weights for more precise optimization.\n",
        "    # Can be used for R-CNN training setup.\n",
        "  LOSS_WEIGHTS = {\n",
        "        \"rpn_class_loss\": 1.,\n",
        "        \"rpn_bbox_loss\": 1.,\n",
        "        \"mrcnn_class_loss\": 1.,\n",
        "        \"mrcnn_bbox_loss\": 1.,\n",
        "        \"mrcnn_mask_loss\": 1.\n",
        "    }\n",
        "    # Use RPN ROIs or externally generated ROIs for training\n",
        "    # Keep this True for most situations. Set to False if you want to train\n",
        "    # the head branches on ROI generated by code rather than the ROIs from\n",
        "    # the RPN. For example, to debug the classifier head without having to\n",
        "    # train the RPN.\n",
        "  USE_RPN_ROIS = True\n",
        "    # Train or freeze batch normalization layers\n",
        "    #     None: Train BN layers. This is the normal mode\n",
        "    #     False: Freeze BN layers. Good when using a small batch size\n",
        "    #     True: (don't use). Set layer in training mode even when predicting\n",
        "  TRAIN_BN = False  # Defaulting to False since batch size is often small\n",
        "  IMAGE_META_SIZE=20\n",
        "    # Gradient norm clipping\n",
        "  GRADIENT_CLIP_NORM = 5.0\n",
        "  def __init__(self):\n",
        "    self.BATCH_SIZE=1\n",
        "        # Input image size\n",
        "    if self.IMAGE_RESIZE_MODE == \"crop\":\n",
        "      self.IMAGE_SHAPE = np.array([self.IMAGE_MIN_DIM, self.IMAGE_MIN_DIM,\n",
        "                                    self.IMAGE_CHANNEL_COUNT])\n",
        "    else:\n",
        "        self.IMAGE_SHAPE = np.array([self.IMAGE_MAX_DIM, self.IMAGE_MAX_DIM,self.IMAGE_CHANNEL_COUNT])             \n",
        "config=myConfig()\n",
        "print(config.IMAGE_SHAPE)\n",
        "#config.display()\n",
        "\n",
        "# =========================================================\n",
        "#  create model\n",
        "# =========================================================\n",
        "model = modellib.MaskRCNN(mode=\"training\", config=config, model_dir='./')\n",
        "os.chdir('/content/drive/My Drive/path')\n",
        "# =========================================================\n",
        "#  load model wieghts\n",
        "# ========================================================= \n",
        "#model.load_weights('mask_rcnn_coco.h5', by_name=True, exclude=[ \"mrcnn_class_logits\", \"mrcnn_bbox_fc\", \"mrcnn_bbox\", \"mrcnn_mask\"])\n",
        "model.load_weights('resnet50_weights_tf_dim_ordering_tf_kernels_notop.h5', by_name=True, exclude=[ \"mrcnn_class_logits\", \"mrcnn_bbox_fc\", \"mrcnn_bbox\", \"mrcnn_mask\"])\n",
        "\n",
        "\n"
      ],
      "execution_count": null,
      "outputs": [
        {
          "output_type": "stream",
          "text": [
            "[512 512   3]\n"
          ],
          "name": "stdout"
        }
      ]
    },
    {
      "cell_type": "code",
      "metadata": {
        "id": "YJci2xqPyYdw",
        "colab": {
          "base_uri": "https://localhost:8080/",
          "height": 48
        },
        "outputId": "3de660d6-5c6c-4a7c-ce09-5db817a4ec23"
      },
      "source": [
        "class KangarooDataset(Dataset):\n",
        "\t# load the dataset definitions\n",
        "\tdef load_dataset(self, dataset_dir, is_train=True):\n",
        "\t\t# define one class\n",
        "\t\tself.add_class(\"dataset\", 1, \"worn\")\n",
        "\t\t# define data locations\n",
        "\t\timages_dir = dataset_dir + '/images/'\n",
        "\t\tannotations_dir = dataset_dir + '/annots/'\n",
        "\t\t# find all images\n",
        "\t\tfor filename in listdir(images_dir):\n",
        "\t\t\t# extract image id\n",
        "\t\t\timage_id = filename[0:-4]\n",
        "\t\t\t# skip bad images\n",
        "\t\t\tif image_id in ['00190']:\n",
        "\t\t\t\tcontinue\n",
        "\t\t\t# skip all images after 150 if we are building the train set\n",
        "\t\t\tif is_train and int(image_id) >= 50:\n",
        "\t\t\t\tcontinue\n",
        "\t\t\t# skip all images before 150 if we are building the test/val set\n",
        "\t\t\tif not is_train and int(image_id) < 50:\n",
        "\t\t\t\tcontinue\n",
        "\t\t\timg_path = images_dir + filename\n",
        "\t\t\tann_path = annotations_dir + image_id + '.xml'\n",
        "\t\t\t# add to dataset\n",
        "\t\t\tself.add_image('dataset', image_id=image_id, path=img_path, annotation=ann_path)\n",
        "os.chdir('/content/drive/My Drive/path/Z/dataset/')\n",
        "train_set=KangarooDataset()\n",
        "train_set.load_dataset('./', is_train=True)\n",
        "train_set.prepare()\n",
        "test_set = KangarooDataset()\n",
        "test_set.load_dataset('./', is_train=False)\n",
        "test_set.prepare()\n",
        "print('Test: %d' % len(test_set.image_ids))\n",
        "print('Train: %d' % len(train_set.image_ids))\n"
      ],
      "execution_count": null,
      "outputs": [
        {
          "output_type": "stream",
          "text": [
            "Test: 18\n",
            "Train: 49\n"
          ],
          "name": "stdout"
        }
      ]
    },
    {
      "cell_type": "code",
      "metadata": {
        "id": "_0Rhkdi2q848",
        "colab": {
          "base_uri": "https://localhost:8080/",
          "height": 377
        },
        "outputId": "22c09af5-8ba9-4516-8d9a-3d83a7bed434"
      },
      "source": [
        "model.train(train_set, test_set, learning_rate=config.LEARNING_RATE, epochs=2, layers='head')"
      ],
      "execution_count": null,
      "outputs": [
        {
          "output_type": "stream",
          "text": [
            "\n",
            "Starting at epoch 0. LR=0.0016\n",
            "\n",
            "Checkpoint Path: ./worn20200920T0818/mask_rcnn_worn_{epoch:04d}.h5\n",
            "Selecting layers to train\n",
            "In model:  rpn_model\n"
          ],
          "name": "stdout"
        },
        {
          "output_type": "error",
          "ename": "ValueError",
          "evalue": "ignored",
          "traceback": [
            "\u001b[0;31m---------------------------------------------------------------------------\u001b[0m",
            "\u001b[0;31mValueError\u001b[0m                                Traceback (most recent call last)",
            "\u001b[0;32m<ipython-input-10-f36ffb71c5ec>\u001b[0m in \u001b[0;36m<module>\u001b[0;34m()\u001b[0m\n\u001b[0;32m----> 1\u001b[0;31m \u001b[0mmodel\u001b[0m\u001b[0;34m.\u001b[0m\u001b[0mtrain\u001b[0m\u001b[0;34m(\u001b[0m\u001b[0mtrain_set\u001b[0m\u001b[0;34m,\u001b[0m \u001b[0mtest_set\u001b[0m\u001b[0;34m,\u001b[0m \u001b[0mlearning_rate\u001b[0m\u001b[0;34m=\u001b[0m\u001b[0mconfig\u001b[0m\u001b[0;34m.\u001b[0m\u001b[0mLEARNING_RATE\u001b[0m\u001b[0;34m,\u001b[0m \u001b[0mepochs\u001b[0m\u001b[0;34m=\u001b[0m\u001b[0;36m2\u001b[0m\u001b[0;34m,\u001b[0m \u001b[0mlayers\u001b[0m\u001b[0;34m=\u001b[0m\u001b[0;34m'head'\u001b[0m\u001b[0;34m)\u001b[0m\u001b[0;34m\u001b[0m\u001b[0;34m\u001b[0m\u001b[0m\n\u001b[0m",
            "\u001b[0;32m/usr/local/lib/python3.6/dist-packages/mrcnn/model.py\u001b[0m in \u001b[0;36mtrain\u001b[0;34m(self, train_dataset, val_dataset, learning_rate, epochs, layers, augmentation)\u001b[0m\n\u001b[1;32m   2330\u001b[0m         \u001b[0mlog\u001b[0m\u001b[0;34m(\u001b[0m\u001b[0;34m\"Checkpoint Path: {}\"\u001b[0m\u001b[0;34m.\u001b[0m\u001b[0mformat\u001b[0m\u001b[0;34m(\u001b[0m\u001b[0mself\u001b[0m\u001b[0;34m.\u001b[0m\u001b[0mcheckpoint_path\u001b[0m\u001b[0;34m)\u001b[0m\u001b[0;34m)\u001b[0m\u001b[0;34m\u001b[0m\u001b[0;34m\u001b[0m\u001b[0m\n\u001b[1;32m   2331\u001b[0m         \u001b[0mself\u001b[0m\u001b[0;34m.\u001b[0m\u001b[0mset_trainable\u001b[0m\u001b[0;34m(\u001b[0m\u001b[0mlayers\u001b[0m\u001b[0;34m)\u001b[0m\u001b[0;34m\u001b[0m\u001b[0;34m\u001b[0m\u001b[0m\n\u001b[0;32m-> 2332\u001b[0;31m         \u001b[0mself\u001b[0m\u001b[0;34m.\u001b[0m\u001b[0mcompile\u001b[0m\u001b[0;34m(\u001b[0m\u001b[0mlearning_rate\u001b[0m\u001b[0;34m,\u001b[0m \u001b[0mself\u001b[0m\u001b[0;34m.\u001b[0m\u001b[0mconfig\u001b[0m\u001b[0;34m.\u001b[0m\u001b[0mLEARNING_MOMENTUM\u001b[0m\u001b[0;34m)\u001b[0m\u001b[0;34m\u001b[0m\u001b[0;34m\u001b[0m\u001b[0m\n\u001b[0m\u001b[1;32m   2333\u001b[0m \u001b[0;34m\u001b[0m\u001b[0m\n\u001b[1;32m   2334\u001b[0m         \u001b[0;31m# Work-around for Windows: Keras fails on Windows when using\u001b[0m\u001b[0;34m\u001b[0m\u001b[0;34m\u001b[0m\u001b[0;34m\u001b[0m\u001b[0m\n",
            "\u001b[0;32m/usr/local/lib/python3.6/dist-packages/mrcnn/model.py\u001b[0m in \u001b[0;36mcompile\u001b[0;34m(self, learning_rate, momentum)\u001b[0m\n\u001b[1;32m   2170\u001b[0m             \u001b[0;32mfor\u001b[0m \u001b[0mw\u001b[0m \u001b[0;32min\u001b[0m \u001b[0mself\u001b[0m\u001b[0;34m.\u001b[0m\u001b[0mkeras_model\u001b[0m\u001b[0;34m.\u001b[0m\u001b[0mtrainable_weights\u001b[0m\u001b[0;34m\u001b[0m\u001b[0;34m\u001b[0m\u001b[0m\n\u001b[1;32m   2171\u001b[0m             if 'gamma' not in w.name and 'beta' not in w.name]\n\u001b[0;32m-> 2172\u001b[0;31m         \u001b[0mself\u001b[0m\u001b[0;34m.\u001b[0m\u001b[0mkeras_model\u001b[0m\u001b[0;34m.\u001b[0m\u001b[0madd_loss\u001b[0m\u001b[0;34m(\u001b[0m\u001b[0mtf\u001b[0m\u001b[0;34m.\u001b[0m\u001b[0madd_n\u001b[0m\u001b[0;34m(\u001b[0m\u001b[0mreg_losses\u001b[0m\u001b[0;34m)\u001b[0m\u001b[0;34m)\u001b[0m\u001b[0;34m\u001b[0m\u001b[0;34m\u001b[0m\u001b[0m\n\u001b[0m\u001b[1;32m   2173\u001b[0m \u001b[0;34m\u001b[0m\u001b[0m\n\u001b[1;32m   2174\u001b[0m         \u001b[0;31m# Compile\u001b[0m\u001b[0;34m\u001b[0m\u001b[0;34m\u001b[0m\u001b[0;34m\u001b[0m\u001b[0m\n",
            "\u001b[0;32m/usr/local/lib/python3.6/dist-packages/tensorflow/python/ops/math_ops.py\u001b[0m in \u001b[0;36madd_n\u001b[0;34m(inputs, name)\u001b[0m\n\u001b[1;32m   1987\u001b[0m   \"\"\"\n\u001b[1;32m   1988\u001b[0m   \u001b[0;32mif\u001b[0m \u001b[0;32mnot\u001b[0m \u001b[0minputs\u001b[0m \u001b[0;32mor\u001b[0m \u001b[0;32mnot\u001b[0m \u001b[0misinstance\u001b[0m\u001b[0;34m(\u001b[0m\u001b[0minputs\u001b[0m\u001b[0;34m,\u001b[0m \u001b[0;34m(\u001b[0m\u001b[0mlist\u001b[0m\u001b[0;34m,\u001b[0m \u001b[0mtuple\u001b[0m\u001b[0;34m)\u001b[0m\u001b[0;34m)\u001b[0m\u001b[0;34m:\u001b[0m\u001b[0;34m\u001b[0m\u001b[0;34m\u001b[0m\u001b[0m\n\u001b[0;32m-> 1989\u001b[0;31m     raise ValueError(\"inputs must be a list of at least one Tensor with the \"\n\u001b[0m\u001b[1;32m   1990\u001b[0m                      \"same dtype and shape\")\n\u001b[1;32m   1991\u001b[0m   \u001b[0minputs\u001b[0m \u001b[0;34m=\u001b[0m \u001b[0mops\u001b[0m\u001b[0;34m.\u001b[0m\u001b[0mconvert_n_to_tensor_or_indexed_slices\u001b[0m\u001b[0;34m(\u001b[0m\u001b[0minputs\u001b[0m\u001b[0;34m)\u001b[0m\u001b[0;34m\u001b[0m\u001b[0;34m\u001b[0m\u001b[0m\n",
            "\u001b[0;31mValueError\u001b[0m: inputs must be a list of at least one Tensor with the same dtype and shape"
          ]
        }
      ]
    }
  ]
}